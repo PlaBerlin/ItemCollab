{
 "cells": [
  {
   "cell_type": "markdown",
   "metadata": {},
   "source": [
    "# 01 一元线性回归"
   ]
  },
  {
   "cell_type": "markdown",
   "metadata": {},
   "source": [
    "## 确定问题"
   ]
  },
  {
   "cell_type": "markdown",
   "metadata": {},
   "source": [
    "根据房屋面积预测房价：\n",
    "    \n",
    "    设房屋面积为x，房价为y，此为一元线性回归问题，根据一个特征预测目标值\n",
    "    \n",
    "    在其他问题中，训练集中包含多项特征，为多元线性回归问题。"
   ]
  },
  {
   "cell_type": "markdown",
   "metadata": {},
   "source": [
    "## 建立模型"
   ]
  },
  {
   "cell_type": "markdown",
   "metadata": {},
   "source": [
    "根据分析，此问题模型为一个简单的一元线性方程 \n",
    "$y=a x+b$\n"
   ]
  },
  {
   "cell_type": "markdown",
   "metadata": {},
   "source": [
    "将训练集中每一个样本点带入该模型，得到样本点$x^{(i)}$的预测值$\\hat{y}^{(i)}$  \n",
    "\n",
    "$\\hat{y}^{(i)}=a x^{(i)}+b$\n",
    "\n",
    "此时，该样本点的真值为$y^{(i)}$"
   ]
  },
  {
   "cell_type": "markdown",
   "metadata": {},
   "source": [
    "利用真值与预测值之间的误差，为此模型建立目标函数(损失函数or效用函数)：\n",
    "\n",
    "$\\left(y^{(i)}-\\hat{y}^{(i)}\\right)^{2}$\n",
    "\n",
    "考虑所有样本，并将预测值带入得到Loss Function：\n",
    "\n",
    "$\\sum_{i=1}^{m}\\left(y^{(i)}-a x^{(i)}-b\\right)^{2}$\n",
    "\n",
    "我们希望目标函数取值越小越好，也即真值与预测值越贴近模型越准确"
   ]
  },
  {
   "cell_type": "markdown",
   "metadata": {},
   "source": [
    "Notes：由于我们需要求目标函数最值，所以目标函数最好是连续可导函数"
   ]
  },
  {
   "cell_type": "markdown",
   "metadata": {},
   "source": [
    "## 模型求解"
   ]
  },
  {
   "cell_type": "markdown",
   "metadata": {},
   "source": [
    "找到a和b使得Loss Function：$J(a, b)=\\sum_{i=1}^{m}\\left(y^{(i)}-a x^{(i)}-b\\right)^{2}$ 取值最小\n",
    "\n",
    "此类模型常用求解工具：最小二乘法"
   ]
  },
  {
   "cell_type": "markdown",
   "metadata": {},
   "source": [
    "分别对J(a,b)求a和b的偏导$\\frac{\\partial J(a, b)}{\\partial a}=0$ $\\frac{\\partial J(a, b)}{\\partial b}=0$，则在偏导数等于0时，函数取得极值。\n",
    "\n",
    "根据链式求导法则，$\\frac{\\partial J(a, b)}{\\partial b}=\\sum_{i=1}^{m} 2\\left(y^{(i)}-a x^{(i)}-b\\right)(-1)$\n",
    "\n",
    "从而，$\\sum_{i=1}^{m} 2\\left(y^{(i)}-a x^{(i)}-b\\right)(-1)=0$\n",
    "\n",
    "也即，$\\sum_{i=1}^{m}\\left(y^{(i)}-a x^{(i)}-b\\right)=0$\n",
    "\n",
    "进一步:\n",
    "\n",
    "$\\sum_{i=1}^{m} y^{(i)}-a \\sum_{i=1}^{m} x^{(i)}-\\sum_{i=1}^{m} b=0$\n",
    "\n",
    "\n",
    "\n",
    "$\\sum_{i=1}^{m} y^{(i)}-a \\sum_{i=1}^{m} x^{(i)}-m b=0$\n",
    "\n",
    "\n",
    "\n",
    "$m b=\\sum_{i=1}^{m} y^{(i)}-a \\sum_{i=1}^{m} x^{(i)}$\n",
    "\n",
    "\n",
    "    \n",
    "因此，$b=\\overline{y}-a \\overline{x}$\n",
    "\n",
    "同理可得，$a=\\frac{\\sum_{i=1}^{m}\\left(x^{(i)}-\\overline{x}\\right)\\left(y^{(i)}-\\overline{y}\\right)}{\\sum_{i=1}^{m}\\left(x^{(i)}-\\overline{x}\\right)^{2}}$\n"
   ]
  },
  {
   "cell_type": "markdown",
   "metadata": {},
   "source": [
    "最终当参数a,b确定为以下值时，J(a,b)取最小值，真值与预测值误差最小\n",
    "\n",
    "$a=\\frac{\\sum_{i=1}^{m}\\left(x^{(i)}-\\overline{x}\\right)\\left(y^{(i)}-\\overline{y}\\right)}{\\sum_{i=1}^{m}\\left(x^{(i)}-\\overline{x}\\right)^{2}}$\n",
    "\n",
    "$b=\\overline{y}-a \\overline{x}$\n"
   ]
  },
  {
   "cell_type": "markdown",
   "metadata": {},
   "source": [
    "## Coding 实现"
   ]
  },
  {
   "cell_type": "markdown",
   "metadata": {},
   "source": [
    "### for循环方式"
   ]
  },
  {
   "cell_type": "code",
   "execution_count": 1,
   "metadata": {},
   "outputs": [],
   "source": [
    "import numpy as np\n",
    "import matplotlib.pyplot as plt\n",
    "x = np.array([1.,2.,3.,4.,5.])\n",
    "y = np.array([1.,3.,2.,3.,5.])"
   ]
  },
  {
   "cell_type": "code",
   "execution_count": 2,
   "metadata": {},
   "outputs": [
    {
     "name": "stdout",
     "output_type": "stream",
     "text": [
      "a: 0.8\n",
      "b: 0.39999999999999947\n"
     ]
    }
   ],
   "source": [
    "x_mean = np.mean(x)\n",
    "y_mean = np.mean(y)\n",
    "num = 0.0\n",
    "d = 0.0\n",
    "for x_i,y_i in zip(x,y):\n",
    "    num += (x_i - x_mean)*(y_i - y_mean)\n",
    "    d += (x_i - x_mean)**2\n",
    "a = num/d\n",
    "b = y_mean - a*x_mean\n",
    "print('a:',a)\n",
    "print('b:',b)"
   ]
  },
  {
   "cell_type": "code",
   "execution_count": 3,
   "metadata": {},
   "outputs": [
    {
     "data": {
      "image/png": "[encoded data removed]",
      "text/plain": [
       "<Figure size 432x288 with 1 Axes>"
      ]
     },
     "metadata": {
      "needs_background": "light"
     },
     "output_type": "display_data"
    }
   ],
   "source": [
    "y_hat = a*x + b\n",
    "plt.plot(x, y_hat,label='y_hat')\n",
    "plt.scatter(x, y,label='y_real',color='r')\n",
    "plt.legend()\n",
    "plt.show()"
   ]
  },
  {
   "cell_type": "markdown",
   "metadata": {},
   "source": [
    "### 向量化运算方式"
   ]
  },
  {
   "cell_type": "code",
   "execution_count": 4,
   "metadata": {},
   "outputs": [],
   "source": [
    "import numpy as np\n",
    "m = 1000000\n",
    "# 随机数组，一百万个元素\n",
    "x = np.random.random(size=m)\n",
    "# 增加噪声作为干扰项\n",
    "noise = np.random.normal(size=m)\n",
    "y = x * 2.0 + 3.0 + noise"
   ]
  },
  {
   "cell_type": "code",
   "execution_count": 5,
   "metadata": {},
   "outputs": [],
   "source": [
    "def for_fit_method(x,y):\n",
    "    x_mean = np.mean(x)\n",
    "    y_mean = np.mean(y)\n",
    "    num = 0.0\n",
    "    d = 0.0\n",
    "    for x_i,y_i in zip(x,y):\n",
    "        num += (x_i - x_mean)*(y_i - y_mean)\n",
    "        d += (x_i - x_mean)**2\n",
    "    a = num/d\n",
    "    b = y_mean - a*x_mean\n",
    "    return a,b"
   ]
  },
  {
   "cell_type": "code",
   "execution_count": 6,
   "metadata": {},
   "outputs": [],
   "source": [
    "def vector_fit_method(x,y):\n",
    "    x_mean = np.mean(x)\n",
    "    y_mean = np.mean(y)\n",
    "    num = (x-x_mean).dot(y-y_mean)\n",
    "    d = (x - x_mean).dot(x - x_mean)\n",
    "    a = num/d\n",
    "    b = y_mean - a*x_mean\n",
    "    return a,b"
   ]
  },
  {
   "cell_type": "code",
   "execution_count": 7,
   "metadata": {},
   "outputs": [
    {
     "name": "stdout",
     "output_type": "stream",
     "text": [
      "803 ms ± 2.11 ms per loop (mean ± std. dev. of 7 runs, 1 loop each)\n",
      "12.5 ms ± 317 µs per loop (mean ± std. dev. of 7 runs, 100 loops each)\n"
     ]
    }
   ],
   "source": [
    "# 两种方式性能比较，向量化领先将近一百倍\n",
    "%timeit for_fit_method(x,y)\n",
    "%timeit vector_fit_method(x,y)"
   ]
  },
  {
   "cell_type": "markdown",
   "metadata": {},
   "source": [
    "## 衡量指标"
   ]
  },
  {
   "cell_type": "markdown",
   "metadata": {},
   "source": [
    "### MSE"
   ]
  },
  {
   "cell_type": "markdown",
   "metadata": {},
   "source": [
    "Mean Squared Error\n",
    "\n",
    "均方误差\n",
    "\n",
    "$\\frac{1}{m} \\sum_{i=1}^{m}\\left(y_{t e s t}^{(i)}-\\hat{y}_{t e s t}^{(i)}\\right)^{2}$"
   ]
  },
  {
   "cell_type": "code",
   "execution_count": 8,
   "metadata": {},
   "outputs": [],
   "source": [
    "def mean_squared_error(y_true,y_predict):\n",
    "    np.sum((y_true-y_predict)**2) / len(y_true)"
   ]
  },
  {
   "cell_type": "markdown",
   "metadata": {},
   "source": [
    "### RMSE"
   ]
  },
  {
   "cell_type": "markdown",
   "metadata": {},
   "source": [
    "Root Mean Squared Error\n",
    "\n",
    "均方根误差\n",
    "\n",
    "$\\sqrt{\\frac{1}{m} \\sum_{i=1}^{m}\\left(y_{t e s t}^{(i)}-\\hat{y}_{t e s t}^{(i)}\\right)^{2}}=\\sqrt{M S E_{t e s t}}$"
   ]
  },
  {
   "cell_type": "code",
   "execution_count": 9,
   "metadata": {},
   "outputs": [],
   "source": [
    "from math import sqrt\n",
    "def root_mean_squared_error(y_true,y_predict):\n",
    "    return sqrt(mean_squared_error(y_true,y_predict))"
   ]
  },
  {
   "cell_type": "markdown",
   "metadata": {},
   "source": [
    "### MAE"
   ]
  },
  {
   "cell_type": "markdown",
   "metadata": {},
   "source": [
    "Mean Absolute Error\n",
    "\n",
    "平均绝对误差\n",
    "\n",
    "$\\frac{1}{m} \\sum_{i=1}^{m}\\left|y_{t e s t}^{(i)}-\\hat{y}_{t e s t}^{(i)}\\right|$"
   ]
  },
  {
   "cell_type": "code",
   "execution_count": 10,
   "metadata": {},
   "outputs": [],
   "source": [
    "def mean_absolute_error(y_true,y_predict):\n",
    "    return np.sum(abs(y_true-y_predict)) / len(y_true)"
   ]
  },
  {
   "cell_type": "markdown",
   "metadata": {},
   "source": [
    "### R Square"
   ]
  },
  {
   "cell_type": "markdown",
   "metadata": {},
   "source": [
    "$R^{2}=1-\\frac{S S_{\\text {residual}}}{S S_{\\text {total}}}=1-\\frac{\\sum_{i}\\left(\\hat{y}^{(i)}-y^{(i)}\\right)^{2}}{\\sum_{i}\\left(\\overline{y}-y^{(i)}\\right)^{2}}$"
   ]
  },
  {
   "cell_type": "markdown",
   "metadata": {},
   "source": [
    "$S S_{\\text {residual}}$ : residual sum of squares：\n",
    "    \n",
    "   * 使用我们的模型：$\\hat{y}^{(i)}=a x^{(i)}+b$ ,预测结果与真值误差的平方和\n",
    "   \n",
    "$S S_{\\text {total}}$ : total sum of squares：\n",
    "    \n",
    "   * 使用基准模型baseline model:$y=\\overline{y}$，预测结果与真值误差的平方和"
   ]
  },
  {
   "cell_type": "markdown",
   "metadata": {},
   "source": [
    "Notes:\n",
    "\n",
    "1.$R^{2}<=1$\n",
    "\n",
    "2.$R^{2}=1$，$S S_{\\text {residual}}=0$，我们建立的模型，没有任何预测误差，此为理想状态\n",
    "\n",
    "3.$R^{2}$ 越接近1，我们建立的模型预测效果越好\n",
    "\n",
    "4.$R^{2}=0$ , $S S_{\\text {residual}}=S S_{\\text {total}}$ ,我们建立的模型与基准模型相同，不具备预测效果\n",
    "\n",
    "5.$R^{2}=0$，我们建立的模型还不如基准模型，此时有可能训练集数据完全不具备线性关系"
   ]
  },
  {
   "cell_type": "markdown",
   "metadata": {},
   "source": [
    "关于baseline model：\n",
    "\n",
    "   每种数学模型都有其基准模型\n",
    "\n",
    "   在线性回归模型中，$y=\\overline{y}$ 是基准模型\n",
    "    \n",
    "   在朴素情况下，用y的均值 $y=\\overline{y}$ 来预测所有y(x)"
   ]
  },
  {
   "cell_type": "markdown",
   "metadata": {},
   "source": [
    "进一步推导，简化计算\n",
    "\n",
    "$\\begin{aligned} R^{2}&=1-\\frac{\\sum_{i}\\left(\\hat{y}^{(i)}-y^{(i)}\\right)^{2}}{\\sum_{i}\\left(\\overline{y}-y^{(i)}\\right)^{2}} \\\\ &=1-\\frac{\\left(\\sum_{i=1}^{m}\\left(\\hat{y}^{(i)}-y^{(i)}\\right)^{2}\\right) / m}{\\left(\\sum_{i=1}^{m}\\left(y^{(i)}-\\overline{y}\\right)^{2}\\right) / m} \\\\ &=1-\\frac{\\operatorname{MSE}(\\hat{y}, y)}{\\operatorname{Var}(y)} \\end{aligned}$"
   ]
  },
  {
   "cell_type": "code",
   "execution_count": 11,
   "metadata": {},
   "outputs": [],
   "source": [
    "def r_square(y_true, y_predict):\n",
    "    return 1 - mean_squared_error(y_true, y_predict)/np.var(y_true)"
   ]
  },
  {
   "cell_type": "markdown",
   "metadata": {},
   "source": [
    "### Coding 实现"
   ]
  },
  {
   "cell_type": "code",
   "execution_count": 12,
   "metadata": {},
   "outputs": [
    {
     "data": {
      "text/plain": [
       "dict_keys(['data', 'target', 'feature_names', 'DESCR', 'filename'])"
      ]
     },
     "execution_count": 12,
     "metadata": {},
     "output_type": "execute_result"
    }
   ],
   "source": [
    "# 加载数据集\n",
    "import numpy as np \n",
    "from sklearn import datasets\n",
    "boston = datasets.load_boston()\n",
    "boston.keys()"
   ]
  },
  {
   "cell_type": "code",
   "execution_count": 13,
   "metadata": {},
   "outputs": [
    {
     "data": {
      "image/png": "[encoded data removed]",
      "text/plain": [
       "<Figure size 432x288 with 1 Axes>"
      ]
     },
     "metadata": {
      "needs_background": "light"
     },
     "output_type": "display_data"
    }
   ],
   "source": [
    "# 绘制散点图观看第五列特征与房价的关系\n",
    "import matplotlib.pyplot as plt\n",
    "x = boston['data'][:,5]\n",
    "y = boston['target']\n",
    "plt.scatter(x,y)\n",
    "plt.show()"
   ]
  },
  {
   "cell_type": "code",
   "execution_count": 14,
   "metadata": {},
   "outputs": [
    {
     "data": {
      "image/png": "[encoded data removed]",
      "text/plain": [
       "<Figure size 432x288 with 1 Axes>"
      ]
     },
     "metadata": {
      "needs_background": "light"
     },
     "output_type": "display_data"
    }
   ],
   "source": [
    "# 观察发现50被设置为房价的最大值\n",
    "# 在数据的实际统计过程中凡是超过50房子的均被记录为50\n",
    "# 去除这些离群值,将其标记为红色\n",
    "x_save = x[y<50]\n",
    "y_save = y[y<50]\n",
    "x_remove = x[y==50]\n",
    "y_remove = y[y==50]\n",
    "plt.scatter(x_save,y_save)\n",
    "plt.scatter(x_remove,y_remove,color='r',marker='x')\n",
    "plt.show()"
   ]
  },
  {
   "cell_type": "code",
   "execution_count": 16,
   "metadata": {},
   "outputs": [
    {
     "data": {
      "image/png": "[encoded data removed]",
      "text/plain": [
       "<Figure size 432x288 with 1 Axes>"
      ]
     },
     "metadata": {
      "needs_background": "light"
     },
     "output_type": "display_data"
    }
   ],
   "source": [
    "from handjob.SimpleLinerRegression import SimpleLinerRegression\n",
    "from sklearn.model_selection import train_test_split\n",
    "x_train, x_test, y_train, y_test = train_test_split(x_save, y_save, random_state=666, test_size=0.2 )\n",
    "slr = SimpleLinerRegression()\n",
    "slr.fit(x_train,y_train)\n",
    "plt.scatter(x_save,y_save)\n",
    "plt.plot(x_save,slr.predict(x_save),color='r')\n",
    "plt.show()"
   ]
  },
  {
   "cell_type": "code",
   "execution_count": 17,
   "metadata": {},
   "outputs": [],
   "source": [
    "from handjob.metrics import mean_absolute_error\n",
    "from handjob.metrics import root_mean_squared_error\n",
    "from handjob.metrics import mean_squared_error\n",
    "from handjob.metrics import mean_squared_error\n",
    "y_predict = slr.predict(x_test)"
   ]
  },
  {
   "cell_type": "code",
   "execution_count": 18,
   "metadata": {},
   "outputs": [
    {
     "data": {
      "text/plain": [
       "4.914936635846635"
      ]
     },
     "execution_count": 18,
     "metadata": {},
     "output_type": "execute_result"
    }
   ],
   "source": [
    "# RMSE\n",
    "root_mean_squared_error(y_test, y_predict)"
   ]
  },
  {
   "cell_type": "code",
   "execution_count": 19,
   "metadata": {},
   "outputs": [
    {
     "data": {
      "text/plain": [
       "3.5430974409463873"
      ]
     },
     "execution_count": 19,
     "metadata": {},
     "output_type": "execute_result"
    }
   ],
   "source": [
    "# MAE\n",
    "mean_absolute_error(y_test, y_predict)"
   ]
  },
  {
   "cell_type": "code",
   "execution_count": 20,
   "metadata": {},
   "outputs": [
    {
     "data": {
      "text/plain": [
       "24.156602134387438"
      ]
     },
     "execution_count": 20,
     "metadata": {},
     "output_type": "execute_result"
    }
   ],
   "source": [
    "# MSE\n",
    "mean_squared_error(y_test, y_predict)"
   ]
  },
  {
   "cell_type": "code",
   "execution_count": 21,
   "metadata": {},
   "outputs": [
    {
     "data": {
      "text/plain": [
       "0.6129316803937322"
      ]
     },
     "execution_count": 21,
     "metadata": {},
     "output_type": "execute_result"
    }
   ],
   "source": [
    "# R**2\n",
    "r_square(y_test, y_predict)"
   ]
  },
  {
   "cell_type": "markdown",
   "metadata": {},
   "source": [
    "# 02 多元线性回归"
   ]
  },
  {
   "cell_type": "markdown",
   "metadata": {},
   "source": [
    "## 公式实现"
   ]
  },
  {
   "cell_type": "markdown",
   "metadata": {},
   "source": [
    "$\\hat{y}^{(i)}=\\theta_{0}+\\theta_{1} X_{1}^{(i)}+\\theta_{2} X_{2}^{(i)}+\\ldots+\\theta_{n} X_{n}^{(i)}$\n",
    "\n",
    "$\\boldsymbol{x}^{(i)}=\\left(X_{1}^{(i)}, X_{2}^{(i)}, \\ldots, X_{n}^{(i)}\\right)$\n",
    "\n",
    "$\\theta=\\left(\\theta_{0}, \\theta_{1}, \\theta_{2}, \\ldots, \\theta_{n}\\right)^{T}$"
   ]
  },
  {
   "cell_type": "markdown",
   "metadata": {},
   "source": [
    "------------------------------------------------------------------------------------------------------------------------------------\n",
    "\n",
    "\n",
    "为了使$\\theta$与$\\boldsymbol{x}^{(i)}$ 匹配起来，如下，新增一个$X_{0}^{(i)}$:\n",
    "\n",
    "\n",
    "$X^{(i)}=\\left(X_{0}^{(i)}, X_{1}^{(i)}, X_{2}^{(i)}, \\ldots, X_{n}^{(i)}\\right)$,则：\n",
    "\n",
    "\n",
    "$\\hat{y}^{(i)}=\\theta_{0} X_{0}^{(i)}+\\theta_{1} X_{1}^{(i)}+\\theta_{2} X_{2}^{(i)}+\\ldots+\\theta_{n} X_{n}^{(i)}, X_{0}^{(i)} \\equiv 1$"
   ]
  },
  {
   "cell_type": "markdown",
   "metadata": {},
   "source": [
    "------------------------------------------------------------------------------------------------------------------------------------\n",
    "$X_{b}=\\left(\\begin{array}{ccccc}{1} & {X_{1}^{(1)}} & {X_{2}^{(1)}} & {\\dots} & {X_{n}^{(1)}} \\\\ {1} & {X_{1}^{(2)}} & {X_{2}^{(2)}} & {\\dots} & {X_{n}^{(2)}} \\\\ {\\dots} & {} & {} & {\\dots} \\\\ {1} & {X_{1}^{(m)}} & {X_{2}^{(m)}} & {\\dots} & {X_{n}^{(m)}}\\end{array}\\right) \\quad \\quad \\theta=\\left(\\begin{array}{c}{\\theta_{0}} \\\\ {\\theta_{1}} \\\\ {\\theta_{2}} \\\\ {\\dots} \\\\ {\\theta_{n}}\\end{array}\\right)$\n"
   ]
  },
  {
   "cell_type": "markdown",
   "metadata": {},
   "source": [
    "$\\hat{y}=X_{b} \\cdot \\theta$"
   ]
  },
  {
   "cell_type": "markdown",
   "metadata": {},
   "source": [
    "------------------------------------------------------------------------------------------------------------------------------------\n",
    "\n",
    "目标：找到$\\theta_{0}, \\theta_{1}, \\theta_{2}, \\dots, \\theta_{n}$ 使得$\\sum_{i=1}^{m}\\left(y^{(i)}-\\hat{y}^{(i)}\\right)^{2}$尽可能小\n",
    "\n",
    "$\\left(y-X_{b} \\cdot \\theta\\right)^{T}\\left(y-X_{b} \\cdot \\theta\\right)$\n",
    "\n",
    "多元线性回归的正规方程解\n",
    "\n",
    "$\\theta=\\left(X_{b}^{T} X_{b}\\right)^{-1} X_{b}^{T} y$\n",
    "\n"
   ]
  },
  {
   "cell_type": "markdown",
   "metadata": {},
   "source": [
    "## Coding实现"
   ]
  },
  {
   "cell_type": "code",
   "execution_count": 1,
   "metadata": {},
   "outputs": [],
   "source": [
    "# 加载数据集\n",
    "import numpy as np \n",
    "from sklearn import datasets\n",
    "from sklearn.model_selection import train_test_split\n",
    "boston = datasets.load_boston()\n",
    "X = boston.data\n",
    "y = boston.target\n",
    "X = X[y<50]\n",
    "y = y[y<50]\n",
    "X_train, X_test, y_train, y_test = train_test_split(X, y, random_state=666, test_size=0.2 )"
   ]
  },
  {
   "cell_type": "code",
   "execution_count": 2,
   "metadata": {},
   "outputs": [
    {
     "data": {
      "text/plain": [
       "0.8129794056212823"
      ]
     },
     "execution_count": 2,
     "metadata": {},
     "output_type": "execute_result"
    }
   ],
   "source": [
    "from handjob.LinerRegression import LinerRegression\n",
    "reg = LinerRegression()\n",
    "reg.fit_normal(X_train, y_train)\n",
    "reg.score(X_test, y_test)"
   ]
  },
  {
   "cell_type": "code",
   "execution_count": 7,
   "metadata": {},
   "outputs": [
    {
     "data": {
      "text/plain": [
       "0.8129794056212823"
      ]
     },
     "execution_count": 7,
     "metadata": {},
     "output_type": "execute_result"
    }
   ],
   "source": [
    "# sklearn 实现\n",
    "from sklearn.linear_model import LinearRegression\n",
    "reg = LinerRegression()\n",
    "reg.fit_normal(X_train, y_train)\n",
    "reg.score(X_test, y_test)"
   ]
  },
  {
   "cell_type": "markdown",
   "metadata": {},
   "source": [
    "## kNN回归"
   ]
  },
  {
   "cell_type": "code",
   "execution_count": 8,
   "metadata": {},
   "outputs": [
    {
     "data": {
      "text/plain": [
       "0.5865412198300899"
      ]
     },
     "execution_count": 8,
     "metadata": {},
     "output_type": "execute_result"
    }
   ],
   "source": [
    "from sklearn.neighbors import KNeighborsRegressor\n",
    "knn_rec = KNeighborsRegressor()\n",
    "knn_rec.fit(X_train,y_train)\n",
    "knn_rec.score(X_test,y_test)"
   ]
  },
  {
   "cell_type": "code",
   "execution_count": null,
   "metadata": {},
   "outputs": [],
   "source": []
  }
 ],
 "metadata": {
  "kernelspec": {
   "display_name": "Python 3",
   "language": "python",
   "name": "python3"
  },
  "language_info": {
   "codemirror_mode": {
    "name": "ipython",
    "version": 3
   },
   "file_extension": ".py",
   "mimetype": "text/x-python",
   "name": "python",
   "nbconvert_exporter": "python",
   "pygments_lexer": "ipython3",
   "version": "3.7.3"
  },
  "toc": {
   "base_numbering": 1,
   "nav_menu": {},
   "number_sections": false,
   "sideBar": true,
   "skip_h1_title": false,
   "title_cell": "Table of Contents",
   "title_sidebar": "Contents",
   "toc_cell": false,
   "toc_position": {
    "height": "calc(100% - 180px)",
    "left": "10px",
    "top": "150px",
    "width": "165px"
   },
   "toc_section_display": true,
   "toc_window_display": true
  }
 },
 "nbformat": 4,
 "nbformat_minor": 2
}
