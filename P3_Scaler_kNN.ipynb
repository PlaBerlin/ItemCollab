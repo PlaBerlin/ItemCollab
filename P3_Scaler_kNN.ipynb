{
 "cells": [
  {
   "cell_type": "markdown",
   "metadata": {},
   "source": [
    "# 09 数据归一化Feature Scaling"
   ]
  },
  {
   "cell_type": "markdown",
   "metadata": {},
   "source": [
    "## Normalization"
   ]
  },
  {
   "cell_type": "markdown",
   "metadata": {},
   "source": [
    "最值归一化\n",
    "\n",
    "x_scale = (x - x_mim) / (x_max - x_min)\n",
    "\n",
    "适用于数据分布有明显边界outlier的情况，比如考试分数，一般边界为0-100\n",
    "\n",
    "因此这种方法受outlier影响比较大，例如Tencent平均月薪7万，但边界为一万到千万\n",
    "\n",
    "归一之后在（0,1）之间"
   ]
  },
  {
   "cell_type": "code",
   "execution_count": 2,
   "metadata": {},
   "outputs": [
    {
     "data": {
      "text/plain": [
       "array([ 1, 32, 75, 32, 43, 13, 48, 72,  6, 88, 28, 22, 95, 20, 78, 22, 33,\n",
       "       57, 73, 36, 52, 40, 25, 14, 26, 19, 84, 19, 33, 92, 88, 79,  5, 32,\n",
       "       29, 41, 18,  1, 69, 18, 52, 28, 87, 30, 72, 41,  4, 67, 97, 60, 47,\n",
       "       42, 74, 82, 24, 80, 29, 76, 82, 28, 48, 66, 16, 48, 22, 75, 57, 48,\n",
       "       32, 13, 86, 84, 94, 84, 19,  3, 69, 29, 79,  6,  9, 73, 81, 86,  9,\n",
       "       93, 78, 30, 32, 93, 45, 48, 80, 19, 22, 33,  0, 45, 95, 10])"
      ]
     },
     "execution_count": 2,
     "metadata": {},
     "output_type": "execute_result"
    }
   ],
   "source": [
    "# 实现\n",
    "import numpy as np\n",
    "import matplotlib.pyplot as plt\n",
    "x = np.random.randint(0,100,size=100)\n",
    "x"
   ]
  },
  {
   "cell_type": "code",
   "execution_count": 3,
   "metadata": {},
   "outputs": [
    {
     "data": {
      "text/plain": [
       "array([0.01030928, 0.32989691, 0.77319588, 0.32989691, 0.44329897,\n",
       "       0.13402062, 0.49484536, 0.74226804, 0.06185567, 0.90721649,\n",
       "       0.28865979, 0.22680412, 0.97938144, 0.20618557, 0.80412371,\n",
       "       0.22680412, 0.34020619, 0.58762887, 0.75257732, 0.37113402,\n",
       "       0.53608247, 0.41237113, 0.25773196, 0.1443299 , 0.26804124,\n",
       "       0.19587629, 0.86597938, 0.19587629, 0.34020619, 0.94845361,\n",
       "       0.90721649, 0.81443299, 0.05154639, 0.32989691, 0.29896907,\n",
       "       0.42268041, 0.18556701, 0.01030928, 0.71134021, 0.18556701,\n",
       "       0.53608247, 0.28865979, 0.89690722, 0.30927835, 0.74226804,\n",
       "       0.42268041, 0.04123711, 0.69072165, 1.        , 0.6185567 ,\n",
       "       0.48453608, 0.43298969, 0.7628866 , 0.84536082, 0.24742268,\n",
       "       0.82474227, 0.29896907, 0.78350515, 0.84536082, 0.28865979,\n",
       "       0.49484536, 0.68041237, 0.16494845, 0.49484536, 0.22680412,\n",
       "       0.77319588, 0.58762887, 0.49484536, 0.32989691, 0.13402062,\n",
       "       0.88659794, 0.86597938, 0.96907216, 0.86597938, 0.19587629,\n",
       "       0.03092784, 0.71134021, 0.29896907, 0.81443299, 0.06185567,\n",
       "       0.09278351, 0.75257732, 0.83505155, 0.88659794, 0.09278351,\n",
       "       0.95876289, 0.80412371, 0.30927835, 0.32989691, 0.95876289,\n",
       "       0.46391753, 0.49484536, 0.82474227, 0.19587629, 0.22680412,\n",
       "       0.34020619, 0.        , 0.46391753, 0.97938144, 0.10309278])"
      ]
     },
     "execution_count": 3,
     "metadata": {},
     "output_type": "execute_result"
    }
   ],
   "source": [
    "# 将x中所有元素进行最值归一化\n",
    "(x - np.min(x)) / (np.max(x)-np.min(x))"
   ]
  },
  {
   "cell_type": "markdown",
   "metadata": {},
   "source": [
    "## standardization"
   ]
  },
  {
   "cell_type": "markdown",
   "metadata": {},
   "source": [
    "均值方差归一化:\n",
    "\n",
    "把所有数据归一到均值为0方差为1的分布中\n",
    "\n",
    "适用于数据分布无明显边界的情况，数据中有可能存在极端数据值\n",
    "\n",
    "其他有边界但边界不明显或尺度比较大的情况也适用于这种方法\n",
    "\n",
    "x_scale = (x - x_mean)/s   s:方差\n",
    "\n",
    "归一之后在数据范围不确定"
   ]
  },
  {
   "cell_type": "code",
   "execution_count": 5,
   "metadata": {},
   "outputs": [
    {
     "data": {
      "text/plain": [
       "array([[50., 47.],\n",
       "       [36., 29.],\n",
       "       [91., 87.],\n",
       "       [ 9., 91.],\n",
       "       [64., 16.],\n",
       "       [76., 78.],\n",
       "       [44., 88.],\n",
       "       [32., 67.],\n",
       "       [89., 94.],\n",
       "       [51., 72.],\n",
       "       [22., 38.],\n",
       "       [ 8., 83.],\n",
       "       [77., 41.],\n",
       "       [61., 70.],\n",
       "       [34., 16.],\n",
       "       [89., 57.],\n",
       "       [72., 12.],\n",
       "       [56., 19.],\n",
       "       [74., 51.],\n",
       "       [19., 26.],\n",
       "       [25., 40.],\n",
       "       [13., 21.],\n",
       "       [71., 37.],\n",
       "       [80., 80.],\n",
       "       [36., 97.],\n",
       "       [ 6., 99.],\n",
       "       [66., 71.],\n",
       "       [ 3., 26.],\n",
       "       [20., 66.],\n",
       "       [97., 97.],\n",
       "       [19.,  1.],\n",
       "       [62., 83.],\n",
       "       [81., 10.],\n",
       "       [52., 80.],\n",
       "       [19., 19.],\n",
       "       [39.,  6.],\n",
       "       [19., 72.],\n",
       "       [23., 32.],\n",
       "       [94., 95.],\n",
       "       [ 4., 15.],\n",
       "       [23., 48.],\n",
       "       [25., 74.],\n",
       "       [45., 55.],\n",
       "       [73., 66.],\n",
       "       [39., 12.],\n",
       "       [67., 91.],\n",
       "       [14., 90.],\n",
       "       [26., 48.],\n",
       "       [60.,  2.],\n",
       "       [45., 95.]])"
      ]
     },
     "execution_count": 5,
     "metadata": {},
     "output_type": "execute_result"
    }
   ],
   "source": [
    "X = np.random.randint(0,100, size=(50,2))\n",
    "# 将X变成float型，用于存储归一后得数值\n",
    "X = np.array(X, dtype=float)\n",
    "X"
   ]
  },
  {
   "cell_type": "code",
   "execution_count": 7,
   "metadata": {},
   "outputs": [],
   "source": [
    "# 对第一列特征进行归一化\n",
    "X[:, 0] = (X[:, 0]-np.mean(X[:, 0]))/np.std(X[:, 0])\n",
    "X[:, 1] = (X[:, 1]-np.mean(X[:, 1]))/np.std(X[:, 1])"
   ]
  },
  {
   "cell_type": "code",
   "execution_count": 8,
   "metadata": {},
   "outputs": [
    {
     "data": {
      "text/plain": [
       "array([[ 0.14705485, -0.23340729],\n",
       "       [-0.36763712, -0.8169255 ],\n",
       "       [ 1.65436704,  1.06329986],\n",
       "       [-1.36025735,  1.19297057],\n",
       "       [ 0.66174682, -1.23835532],\n",
       "       [ 1.10291136,  0.77154075],\n",
       "       [-0.07352742,  1.09571753],\n",
       "       [-0.51469197,  0.41494629],\n",
       "       [ 1.58083962,  1.29022361],\n",
       "       [ 0.18381856,  0.57703468],\n",
       "       [-0.88232909, -0.52516639],\n",
       "       [-1.39702106,  0.93362914],\n",
       "       [ 1.13967507, -0.42791336],\n",
       "       [ 0.55145568,  0.51219932],\n",
       "       [-0.44116454, -1.23835532],\n",
       "       [ 1.58083962,  0.0907695 ],\n",
       "       [ 0.95585651, -1.36802603],\n",
       "       [ 0.36763712, -1.14110228],\n",
       "       [ 1.02938394, -0.10373657],\n",
       "       [-0.99262023, -0.91417853],\n",
       "       [-0.77203795, -0.46033104],\n",
       "       [-1.2132025 , -1.07626693],\n",
       "       [ 0.9190928 , -0.55758407],\n",
       "       [ 1.24996621,  0.83637611],\n",
       "       [-0.36763712,  1.38747664],\n",
       "       [-1.47054848,  1.452312  ],\n",
       "       [ 0.73527424,  0.544617  ],\n",
       "       [-1.58083962, -0.91417853],\n",
       "       [-0.95585651,  0.38252861],\n",
       "       [ 1.87494932,  1.38747664],\n",
       "       [-0.99262023, -1.7246205 ],\n",
       "       [ 0.58821939,  0.93362914],\n",
       "       [ 1.28672992, -1.43286139],\n",
       "       [ 0.22058227,  0.83637611],\n",
       "       [-0.99262023, -1.14110228],\n",
       "       [-0.25734598, -1.5625321 ],\n",
       "       [-0.99262023,  0.57703468],\n",
       "       [-0.84556538, -0.71967246],\n",
       "       [ 1.76465818,  1.32264128],\n",
       "       [-1.54407591, -1.270773  ],\n",
       "       [-0.84556538, -0.20098961],\n",
       "       [-0.77203795,  0.64187003],\n",
       "       [-0.03676371,  0.02593414],\n",
       "       [ 0.99262023,  0.38252861],\n",
       "       [-0.25734598, -1.36802603],\n",
       "       [ 0.77203795,  1.19297057],\n",
       "       [-1.17643879,  1.16055289],\n",
       "       [-0.73527424, -0.20098961],\n",
       "       [ 0.51469197, -1.69220282],\n",
       "       [-0.03676371,  1.32264128]])"
      ]
     },
     "execution_count": 8,
     "metadata": {},
     "output_type": "execute_result"
    }
   ],
   "source": [
    "X"
   ]
  },
  {
   "cell_type": "code",
   "execution_count": 10,
   "metadata": {},
   "outputs": [
    {
     "data": {
      "image/png": "[encoded data removed]",
      "text/plain": [
       "<Figure size 432x288 with 1 Axes>"
      ]
     },
     "metadata": {
      "needs_background": "light"
     },
     "output_type": "display_data"
    }
   ],
   "source": [
    "plt.scatter(X[:, 0],X[:, 1],color='red',marker='x')\n",
    "plt.show()"
   ]
  },
  {
   "cell_type": "code",
   "execution_count": 11,
   "metadata": {},
   "outputs": [
    {
     "data": {
      "text/plain": [
       "1.0"
      ]
     },
     "execution_count": 11,
     "metadata": {},
     "output_type": "execute_result"
    }
   ],
   "source": [
    "np.std(X[:, 0])"
   ]
  },
  {
   "cell_type": "code",
   "execution_count": 12,
   "metadata": {},
   "outputs": [
    {
     "data": {
      "text/plain": [
       "-4.163336342344337e-18"
      ]
     },
     "execution_count": 12,
     "metadata": {},
     "output_type": "execute_result"
    }
   ],
   "source": [
    "np.mean(X[:, 0])"
   ]
  },
  {
   "cell_type": "markdown",
   "metadata": {},
   "source": [
    "## sklearn归一化"
   ]
  },
  {
   "cell_type": "markdown",
   "metadata": {},
   "source": [
    "使用训练集的均值和方差对测试数据集进行归一化\n",
    "\n",
    "下面使用sklearn自带的均值方差模型StandardScaler对数据进行归一化\n",
    "\n",
    "使用最值归一化模型只需引用from sklearn.preprocessing import MinMaxScaler，其余步骤与StandardScaler完全一致"
   ]
  },
  {
   "cell_type": "code",
   "execution_count": 16,
   "metadata": {},
   "outputs": [],
   "source": [
    "# 加载数据集\n",
    "import numpy as np\n",
    "from sklearn import datasets\n",
    "iris = datasets.load_iris()\n",
    "X = iris.data\n",
    "y = iris.target\n",
    "from sklearn.model_selection import train_test_split\n",
    "X_train, X_test, y_train, y_test = train_test_split(X, y, test_size=0.2)"
   ]
  },
  {
   "cell_type": "code",
   "execution_count": 33,
   "metadata": {},
   "outputs": [
    {
     "data": {
      "text/plain": [
       "StandardScaler(copy=True, with_mean=True, with_std=True)"
      ]
     },
     "execution_count": 33,
     "metadata": {},
     "output_type": "execute_result"
    }
   ],
   "source": [
    "# 加载归一化方法\n",
    "from sklearn.preprocessing import StandardScaler\n",
    "standardScaler = StandardScaler()\n",
    "standardScaler.fit(X_train)"
   ]
  },
  {
   "cell_type": "code",
   "execution_count": 34,
   "metadata": {},
   "outputs": [
    {
     "data": {
      "text/plain": [
       "array([5.86083333, 3.05333333, 3.77916667, 1.20583333])"
      ]
     },
     "execution_count": 34,
     "metadata": {},
     "output_type": "execute_result"
    }
   ],
   "source": [
    "# 各特征平均值\n",
    "standardScaler.mean_"
   ]
  },
  {
   "cell_type": "code",
   "execution_count": 35,
   "metadata": {},
   "outputs": [
    {
     "data": {
      "text/plain": [
       "array([0.7921801 , 0.44720117, 1.7435068 , 0.75985699])"
      ]
     },
     "execution_count": 35,
     "metadata": {},
     "output_type": "execute_result"
    }
   ],
   "source": [
    "# 各特征方差\n",
    "standardScaler.scale_"
   ]
  },
  {
   "cell_type": "code",
   "execution_count": 36,
   "metadata": {},
   "outputs": [
    {
     "data": {
      "text/plain": [
       "array([[-0.96042975,  0.99880477, -1.36458697, -1.323714  ],\n",
       "       [-1.33913152,  0.77519177, -1.07780862, -1.323714  ],\n",
       "       [ 0.30190946, -0.56648629,  0.52815012, -0.00767688],\n",
       "       [ 1.05931299, -0.11926027,  0.70021713,  0.65034168],\n",
       "       [ 1.05931299, -1.23732532,  1.15906249,  0.78194539],\n",
       "       [-1.59159936,  0.32796575, -1.36458697, -1.323714  ],\n",
       "       [-1.33913152,  0.77519177, -1.24987563, -1.323714  ],\n",
       "       [ 0.42814338, -0.56648629,  0.58550579,  0.78194539],\n",
       "       [ 0.17567554, -0.11926027,  0.58550579,  0.78194539],\n",
       "       [-1.08666367, -1.68455134, -0.27482925, -0.27088431],\n",
       "       [ 1.05931299,  0.10435274,  0.35608311,  0.25553054],\n",
       "       [ 0.5543773 , -0.34287328,  1.04435115,  0.78194539],\n",
       "       [-1.59159936,  1.22241778, -1.59400965, -1.323714  ],\n",
       "       [ 1.05931299,  0.55157876,  1.10170682,  1.17675653],\n",
       "       [ 1.18554691, -0.11926027,  0.98699548,  1.17675653],\n",
       "       [ 0.68061123,  0.10435274,  0.98699548,  0.78194539],\n",
       "       [-1.21289759, -0.11926027, -1.36458697, -1.323714  ],\n",
       "       [-0.20302622, -0.56648629,  0.41343878,  0.12392683],\n",
       "       [-0.20302622, -0.34287328,  0.24137178,  0.12392683],\n",
       "       [-0.32926014, -0.11926027,  0.18401611,  0.12392683],\n",
       "       [-1.21289759,  1.22241778, -1.36458697, -1.45531772],\n",
       "       [-0.0767923 , -0.56648629,  0.7575728 ,  1.57156766],\n",
       "       [ 0.5543773 , -1.68455134,  0.35608311,  0.12392683],\n",
       "       [ 0.42814338, -1.90816435,  0.41343878,  0.38713425],\n",
       "       [ 1.6904826 , -0.11926027,  1.15906249,  0.51873797],\n",
       "       [ 0.30190946, -0.11926027,  0.47079445,  0.25553054],\n",
       "       [ 1.6904826 ,  1.22241778,  1.3311295 ,  1.70317137],\n",
       "       [-1.08666367,  1.22241778, -1.36458697, -1.323714  ],\n",
       "       [-1.08666367, -2.35539036, -0.16011791, -0.27088431],\n",
       "       [ 0.80684515,  0.32796575,  0.7575728 ,  1.04515281],\n",
       "       [ 0.5543773 , -0.7900993 ,  0.64286146,  0.78194539],\n",
       "       [-0.32926014, -0.56648629,  0.64286146,  1.04515281],\n",
       "       [-0.20302622, -0.56648629,  0.18401611,  0.12392683],\n",
       "       [ 1.31178083,  0.10435274,  0.92963981,  1.17675653],\n",
       "       [-1.33913152, -0.11926027, -1.36458697, -1.19211029],\n",
       "       [-0.96042975, -1.23732532, -0.44689626, -0.1392806 ],\n",
       "       [ 0.68061123, -0.34287328,  0.29872745,  0.12392683],\n",
       "       [-0.96042975,  1.6696438 , -1.3072313 , -1.19211029],\n",
       "       [ 0.80684515, -0.11926027,  1.15906249,  1.30836024],\n",
       "       [-0.45549407, -1.68455134,  0.12666044,  0.12392683],\n",
       "       [ 0.30190946, -0.56648629,  0.12666044,  0.12392683],\n",
       "       [-0.58172799,  0.77519177, -1.3072313 , -1.06050658],\n",
       "       [ 0.17567554, -0.34287328,  0.41343878,  0.38713425],\n",
       "       [-0.83419583,  0.99880477, -1.3072313 , -1.323714  ],\n",
       "       [-1.08666367, -0.11926027, -1.24987563, -1.323714  ],\n",
       "       [ 1.31178083,  0.10435274,  0.7575728 ,  1.43996395],\n",
       "       [-1.8440672 , -0.11926027, -1.42194264, -1.323714  ],\n",
       "       [-0.0767923 ,  2.11686982, -1.47929831, -1.323714  ],\n",
       "       [-0.45549407, -1.46093833, -0.04540657, -0.27088431],\n",
       "       [ 1.31178083,  0.32796575,  1.10170682,  1.43996395],\n",
       "       [-0.0767923 , -0.7900993 ,  0.7575728 ,  0.9135491 ],\n",
       "       [ 0.30190946, -1.01371231,  1.04435115,  0.25553054],\n",
       "       [-0.58172799,  1.44603079, -1.3072313 , -1.323714  ],\n",
       "       [-0.32926014, -0.11926027,  0.41343878,  0.38713425],\n",
       "       [ 0.93307907, -0.11926027,  0.35608311,  0.25553054],\n",
       "       [-0.58172799,  1.89325681, -1.42194264, -1.06050658],\n",
       "       [ 0.5543773 ,  0.77519177,  1.04435115,  1.57156766],\n",
       "       [ 1.05931299,  0.10435274,  1.04435115,  1.57156766],\n",
       "       [-1.46536544,  0.32796575, -1.42194264, -1.323714  ],\n",
       "       [ 2.3216522 ,  1.6696438 ,  1.67526351,  1.30836024],\n",
       "       [ 0.80684515, -0.56648629,  0.47079445,  0.38713425],\n",
       "       [-0.58172799,  0.77519177, -1.19251996, -1.323714  ],\n",
       "       [ 0.80684515, -0.11926027,  0.98699548,  0.78194539],\n",
       "       [ 1.6904826 ,  0.32796575,  1.27377383,  0.78194539],\n",
       "       [-0.96042975,  1.44603079, -1.3072313 , -1.06050658],\n",
       "       [-0.96042975,  1.6696438 , -1.07780862, -1.06050658],\n",
       "       [-0.45549407, -1.46093833,  0.0119491 , -0.1392806 ],\n",
       "       [-1.21289759,  0.10435274, -1.3072313 , -1.45531772],\n",
       "       [ 2.3216522 , -0.56648629,  1.67526351,  1.04515281],\n",
       "       [ 2.3216522 , -0.11926027,  1.3311295 ,  1.43996395],\n",
       "       [-1.21289759, -1.23732532,  0.41343878,  0.65034168],\n",
       "       [-0.83419583,  0.77519177, -1.36458697, -1.323714  ],\n",
       "       [-0.70796191,  1.44603079, -1.3072313 , -1.323714  ],\n",
       "       [-0.20302622, -1.01371231, -0.16011791, -0.27088431],\n",
       "       [ 0.5543773 , -1.23732532,  0.64286146,  0.38713425],\n",
       "       [ 0.04944162,  0.32796575,  0.58550579,  0.78194539],\n",
       "       [-1.08666367,  0.55157876, -1.36458697, -1.323714  ],\n",
       "       [-0.0767923 , -1.01371231,  0.12666044, -0.00767688],\n",
       "       [ 1.94295044, -0.56648629,  1.3311295 ,  0.9135491 ],\n",
       "       [ 0.17567554, -1.90816435,  0.12666044, -0.27088431],\n",
       "       [ 0.80684515, -0.11926027,  0.81492847,  1.04515281],\n",
       "       [-1.08666367,  0.77519177, -1.24987563, -1.06050658],\n",
       "       [ 0.42814338,  0.77519177,  0.92963981,  1.43996395],\n",
       "       [ 2.3216522 , -1.01371231,  1.78997485,  1.43996395],\n",
       "       [-0.0767923 , -0.7900993 ,  0.06930477, -0.00767688],\n",
       "       [ 1.18554691,  0.32796575,  1.21641816,  1.43996395],\n",
       "       [ 0.42814338, -0.34287328,  0.29872745,  0.12392683],\n",
       "       [-1.08666367,  0.77519177, -1.3072313 , -1.323714  ],\n",
       "       [-1.33913152,  0.10435274, -1.24987563, -1.323714  ],\n",
       "       [ 1.05931299,  0.10435274,  0.52815012,  0.38713425],\n",
       "       [-0.83419583, -0.7900993 ,  0.06930477,  0.25553054],\n",
       "       [ 0.04944162, -0.11926027,  0.24137178,  0.38713425],\n",
       "       [-0.32926014, -0.7900993 ,  0.24137178,  0.12392683],\n",
       "       [-0.96042975,  0.55157876, -1.19251996, -0.92890287],\n",
       "       [ 1.18554691, -0.56648629,  0.58550579,  0.25553054],\n",
       "       [ 0.17567554, -1.90816435,  0.70021713,  0.38713425],\n",
       "       [-0.96042975,  1.6696438 , -1.24987563, -1.323714  ],\n",
       "       [-1.21289759, -1.46093833, -0.27482925, -0.27088431],\n",
       "       [ 0.68061123, -0.56648629,  1.04435115,  1.30836024],\n",
       "       [ 0.68061123, -0.56648629,  1.04435115,  1.17675653],\n",
       "       [-0.83419583,  2.34048283, -1.3072313 , -1.45531772],\n",
       "       [-0.45549407,  0.99880477, -1.42194264, -1.323714  ],\n",
       "       [ 0.17567554, -0.7900993 ,  0.7575728 ,  0.51873797],\n",
       "       [-0.58172799, -0.11926027,  0.41343878,  0.38713425],\n",
       "       [ 0.68061123,  0.32796575,  0.87228414,  1.43996395],\n",
       "       [-0.20302622,  3.01132186, -1.3072313 , -1.06050658],\n",
       "       [-0.20302622,  1.6696438 , -1.19251996, -1.19211029],\n",
       "       [-1.8440672 ,  0.32796575, -1.42194264, -1.323714  ],\n",
       "       [-1.08666367,  0.32796575, -1.47929831, -1.323714  ],\n",
       "       [ 2.19541828, -0.11926027,  1.61790784,  1.17675653],\n",
       "       [-0.96042975,  0.77519177, -1.3072313 , -1.323714  ],\n",
       "       [ 0.68061123, -0.7900993 ,  0.87228414,  0.9135491 ],\n",
       "       [ 1.05931299, -0.11926027,  0.81492847,  1.43996395],\n",
       "       [ 0.30190946, -0.34287328,  0.52815012,  0.25553054],\n",
       "       [-1.21289759,  0.10435274, -1.3072313 , -1.323714  ],\n",
       "       [-0.0767923 , -0.7900993 ,  0.7575728 ,  0.9135491 ],\n",
       "       [-0.45549407, -1.01371231,  0.35608311, -0.00767688],\n",
       "       [-0.0767923 , -0.7900993 ,  0.18401611, -0.27088431],\n",
       "       [-0.45549407,  2.56409584, -1.36458697, -1.323714  ],\n",
       "       [ 0.68061123,  0.32796575,  0.41343878,  0.38713425]])"
      ]
     },
     "execution_count": 36,
     "metadata": {},
     "output_type": "execute_result"
    }
   ],
   "source": [
    "# 对训练进行归一化处理后，进行kNN分类\n",
    "X_train = standardScaler.transform(X_train)\n",
    "X_train"
   ]
  },
  {
   "cell_type": "code",
   "execution_count": 37,
   "metadata": {},
   "outputs": [
    {
     "data": {
      "text/plain": [
       "KNeighborsClassifier(algorithm='auto', leaf_size=30, metric='minkowski',\n",
       "                     metric_params=None, n_jobs=None, n_neighbors=3, p=2,\n",
       "                     weights='uniform')"
      ]
     },
     "execution_count": 37,
     "metadata": {},
     "output_type": "execute_result"
    }
   ],
   "source": [
    "from sklearn.neighbors import KNeighborsClassifier\n",
    "clf = KNeighborsClassifier(n_neighbors=3)\n",
    "clf.fit(X_train,y_train)"
   ]
  },
  {
   "cell_type": "code",
   "execution_count": 38,
   "metadata": {},
   "outputs": [],
   "source": [
    "# 对测试集也进行归一化\n",
    "X_test_standard = standardScaler.transform(X_test)"
   ]
  },
  {
   "cell_type": "code",
   "execution_count": 39,
   "metadata": {},
   "outputs": [
    {
     "data": {
      "text/plain": [
       "0.9"
      ]
     },
     "execution_count": 39,
     "metadata": {},
     "output_type": "execute_result"
    }
   ],
   "source": [
    "# 测试效果\n",
    "clf.score(X_test_standard, y_test)"
   ]
  },
  {
   "cell_type": "code",
   "execution_count": 17,
   "metadata": {},
   "outputs": [
    {
     "data": {
      "text/plain": [
       "0.9666666666666667"
      ]
     },
     "execution_count": 17,
     "metadata": {},
     "output_type": "execute_result"
    }
   ],
   "source": [
    "# 使用MinMaxScaler归一化方法\n",
    "from sklearn.preprocessing import MinMaxScaler\n",
    "minMaxScaler = MinMaxScaler()\n",
    "minMaxScaler.fit(X_train)\n",
    "X_train = minMaxScaler.transform(X_train)\n",
    "\n",
    "# 对归一化后的训练集进行fit\n",
    "from sklearn.neighbors import KNeighborsClassifier\n",
    "clf = KNeighborsClassifier(n_neighbors=3)\n",
    "clf.fit(X_train,y_train)\n",
    "\n",
    "# 对测试集也进行归一化\n",
    "X_test_minmax = minMaxScaler.transform(X_test)\n",
    "\n",
    "# 测试效果\n",
    "clf.score(X_test_minmax, y_test)"
   ]
  },
  {
   "cell_type": "markdown",
   "metadata": {},
   "source": [
    "# 10 kNN总结"
   ]
  },
  {
   "cell_type": "markdown",
   "metadata": {},
   "source": [
    "kNN不仅可以处理多分类问题，还可以处理回归问题\n",
    "\n",
    "处理分类问题时：\n",
    "\n",
    "    from sklearn.neighbors import KNeighborsClassifier\n",
    "\n",
    "    距离公式可以选择明科夫斯基距离，统计学中的各类相关性系数，空间几何的余弦相似度\n",
    "    \n",
    "    投票过程中，可以以距离倒数为每个票数增加权重，效果更好。\n",
    "\n",
    "    \n",
    "处理回归问题时：\n",
    "\n",
    "    from sklearn.neighbors import KNeighborsRegressor\n",
    "\n",
    "    数据集中的每个特征作为一个维度，其target作为该点的值\n",
    "    \n",
    "    基本思想是，找出距离待预测点A最近的k个点B_i，k个B_i点的均值作为A的预测值\n",
    "    \n",
    "    求均值时，可以以A到B_i的距离为倒数求加权平均值作为预测值\n",
    "    "
   ]
  },
  {
   "cell_type": "markdown",
   "metadata": {},
   "source": [
    "kNN的缺点：\n",
    "\n",
    "    效率低下，若训练集有n个样本m个特征，则每预测一个新的数据，需要O(m*n)\n",
    "    \n",
    "    预测结果高度数据相关，对outlier过于敏感\n",
    "    \n",
    "    预测结果不具有可解释性，只是空间距离相近就将其划为某一类别，为什么可以这样做？\n",
    "    \n",
    "    维度灾难，随着维度的增加，看似相近的两个点距离会越来越远。\n",
    "\n",
    "优化方法：\n",
    "    \n",
    "    使用树结构,KD-Tree，Ball-Tree\n",
    "    \n",
    "    降维，PCA\n",
    "      "
   ]
  }
 ],
 "metadata": {
  "kernelspec": {
   "display_name": "Python 3",
   "language": "python",
   "name": "python3"
  },
  "language_info": {
   "codemirror_mode": {
    "name": "ipython",
    "version": 3
   },
   "file_extension": ".py",
   "mimetype": "text/x-python",
   "name": "python",
   "nbconvert_exporter": "python",
   "pygments_lexer": "ipython3",
   "version": "3.7.3"
  },
  "toc": {
   "base_numbering": 1,
   "nav_menu": {},
   "number_sections": false,
   "sideBar": true,
   "skip_h1_title": false,
   "title_cell": "Table of Contents",
   "title_sidebar": "Contents",
   "toc_cell": false,
   "toc_position": {
    "height": "calc(100% - 180px)",
    "left": "10px",
    "top": "150px",
    "width": "165px"
   },
   "toc_section_display": true,
   "toc_window_display": true
  }
 },
 "nbformat": 4,
 "nbformat_minor": 2
}
